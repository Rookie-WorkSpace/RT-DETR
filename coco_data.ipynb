{
 "cells": [
  {
   "cell_type": "markdown",
   "metadata": {},
   "source": [
    "# CoCo2017 Data Download"
   ]
  },
  {
   "cell_type": "code",
   "execution_count": 1,
   "metadata": {},
   "outputs": [],
   "source": [
    "import os  \n",
    "import requests  \n",
    "import zipfile  \n",
    "from tqdm.notebook import tqdm  \n",
    "import time  \n",
    "import shutil  "
   ]
  },
  {
   "cell_type": "code",
   "execution_count": 2,
   "metadata": {},
   "outputs": [],
   "source": [
    "# 创建存储目录  \n",
    "base_dir = \"./coco2017\"  # 修改为您希望保存数据集的位置  \n",
    "os.makedirs(base_dir, exist_ok=True)  \n",
    "os.makedirs(os.path.join(base_dir, \"images\"), exist_ok=True)  \n",
    "\n",
    "# 定义下载函数  \n",
    "def download_file(url, save_path):  \n",
    "    if os.path.exists(save_path):  \n",
    "        print(f\"文件 {save_path} 已存在，跳过下载\")  \n",
    "        return  \n",
    "    \n",
    "    print(f\"正在下载: {url}\")  \n",
    "    response = requests.get(url, stream=True)  \n",
    "    total_size = int(response.headers.get('content-length', 0))  \n",
    "    block_size = 1024 * 1024  # 1MB  \n",
    "    \n",
    "    with open(save_path, 'wb') as f:  \n",
    "        progress_bar = tqdm(total=total_size, unit='B', unit_scale=True)  \n",
    "        for data in response.iter_content(block_size):  \n",
    "            progress_bar.update(len(data))  \n",
    "            f.write(data)  \n",
    "        progress_bar.close()  \n",
    "    \n",
    "    print(f\"下载完成: {save_path}\")  \n",
    "\n",
    "# 定义解压函数  \n",
    "def extract_zip(zip_path, extract_to):  \n",
    "    print(f\"解压文件: {zip_path}\")  \n",
    "    with zipfile.ZipFile(zip_path, 'r') as zip_ref:  \n",
    "        for member in tqdm(zip_ref.infolist(), desc='解压中'):  \n",
    "            try:  \n",
    "                zip_ref.extract(member, extract_to)  \n",
    "            except zipfile.error as e:  \n",
    "                print(f\"解压错误: {e}\")  \n",
    "    print(f\"解压完成\")  \n",
    "\n",
    "# 下载和解压文件  \n",
    "files_to_download = [  \n",
    "    {  \n",
    "        \"name\": \"训练集图像\",  \n",
    "        \"url\": \"http://images.cocodataset.org/zips/train2017.zip\",  \n",
    "        \"save_path\": os.path.join(base_dir, \"train2017.zip\"),  \n",
    "        \"extract_to\": os.path.join(base_dir, \"images\")  \n",
    "    },  \n",
    "    {  \n",
    "        \"name\": \"验证集图像\",  \n",
    "        \"url\": \"http://images.cocodataset.org/zips/val2017.zip\",  \n",
    "        \"save_path\": os.path.join(base_dir, \"val2017.zip\"),  \n",
    "        \"extract_to\": os.path.join(base_dir, \"images\")  \n",
    "    },  \n",
    "    {  \n",
    "        \"name\": \"测试集图像\",  \n",
    "        \"url\": \"http://images.cocodataset.org/zips/test2017.zip\",  \n",
    "        \"save_path\": os.path.join(base_dir, \"test2017.zip\"),  \n",
    "        \"extract_to\": os.path.join(base_dir, \"images\")  \n",
    "    },  \n",
    "    {  \n",
    "        \"name\": \"标注文件\",  \n",
    "        \"url\": \"http://images.cocodataset.org/annotations/annotations_trainval2017.zip\",  \n",
    "        \"save_path\": os.path.join(base_dir, \"annotations_trainval2017.zip\"),  \n",
    "        \"extract_to\": base_dir  \n",
    "    }  \n",
    "]  "
   ]
  },
  {
   "cell_type": "code",
   "execution_count": 3,
   "metadata": {},
   "outputs": [
    {
     "name": "stdout",
     "output_type": "stream",
     "text": [
      "\n",
      "开始处理: 测试集图像\n",
      "文件 ./coco2017\\test2017.zip 已存在，跳过下载\n",
      "解压文件: ./coco2017\\test2017.zip\n"
     ]
    },
    {
     "data": {
      "application/vnd.jupyter.widget-view+json": {
       "model_id": "1a60568bd22b4a809fca03388795f525",
       "version_major": 2,
       "version_minor": 0
      },
      "text/plain": [
       "解压中:   0%|          | 0/40671 [00:00<?, ?it/s]"
      ]
     },
     "metadata": {},
     "output_type": "display_data"
    },
    {
     "name": "stdout",
     "output_type": "stream",
     "text": [
      "解压完成\n",
      "\n",
      "COCO 2017数据集下载和解压完成！\n"
     ]
    }
   ],
   "source": [
    "# 执行下载和解压  \n",
    "for file_info in files_to_download[-2:-1]:  \n",
    "    print(f\"\\n开始处理: {file_info['name']}\")  \n",
    "    download_file(file_info[\"url\"], file_info[\"save_path\"])  \n",
    "    extract_zip(file_info[\"save_path\"], file_info[\"extract_to\"])  \n",
    "    \n",
    "    # 可选：删除zip文件以节省空间  \n",
    "    # os.remove(file_info[\"save_path\"])  \n",
    "    # print(f\"已删除zip文件: {file_info['save_path']}\")  \n",
    "\n",
    "print(\"\\nCOCO 2017数据集下载和解压完成！\")  "
   ]
  },
  {
   "cell_type": "code",
   "execution_count": 4,
   "metadata": {},
   "outputs": [
    {
     "name": "stdout",
     "output_type": "stream",
     "text": [
      "训练集图像数量: 118287 (应为 118,287)\n",
      "验证集图像数量: 5000 (应为 5,000)\n"
     ]
    }
   ],
   "source": [
    "# 验证文件数量  \n",
    "train_count = len(os.listdir(os.path.join(base_dir, \"images\", \"train2017\")))  \n",
    "val_count = len(os.listdir(os.path.join(base_dir, \"images\", \"val2017\")))  \n",
    "print(f\"训练集图像数量: {train_count} (应为 118,287)\")  \n",
    "print(f\"验证集图像数量: {val_count} (应为 5,000)\")"
   ]
  }
 ],
 "metadata": {
  "kernelspec": {
   "display_name": "detr",
   "language": "python",
   "name": "python3"
  },
  "language_info": {
   "codemirror_mode": {
    "name": "ipython",
    "version": 3
   },
   "file_extension": ".py",
   "mimetype": "text/x-python",
   "name": "python",
   "nbconvert_exporter": "python",
   "pygments_lexer": "ipython3",
   "version": "3.10.16"
  }
 },
 "nbformat": 4,
 "nbformat_minor": 2
}
